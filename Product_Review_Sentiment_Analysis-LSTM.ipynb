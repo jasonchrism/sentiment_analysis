{
  "cells": [
    {
      "cell_type": "markdown",
      "metadata": {
        "id": "7pGy4mThjo1g"
      },
      "source": [
        "# Preprocessing"
      ]
    },
    {
      "cell_type": "code",
      "execution_count": 3,
      "metadata": {
        "colab": {
          "base_uri": "https://localhost:8080/",
          "height": 590
        },
        "id": "lToBYnAZjo1k",
        "outputId": "b95b947f-033c-49b5-efea-4c3f1e31b1bd"
      },
      "outputs": [
        {
          "ename": "ModuleNotFoundError",
          "evalue": "No module named 'pandas'",
          "output_type": "error",
          "traceback": [
            "\u001b[1;31m---------------------------------------------------------------------------\u001b[0m",
            "\u001b[1;31mModuleNotFoundError\u001b[0m                       Traceback (most recent call last)",
            "Cell \u001b[1;32mIn[3], line 3\u001b[0m\n\u001b[0;32m      1\u001b[0m \u001b[38;5;66;03m# Import required Libs for Preprocessing\u001b[39;00m\n\u001b[1;32m----> 3\u001b[0m \u001b[38;5;28;01mimport\u001b[39;00m \u001b[38;5;21;01mpandas\u001b[39;00m \u001b[38;5;28;01mas\u001b[39;00m \u001b[38;5;21;01mpd\u001b[39;00m\n\u001b[0;32m      4\u001b[0m \u001b[38;5;28;01mimport\u001b[39;00m \u001b[38;5;21;01mnumpy\u001b[39;00m \u001b[38;5;28;01mas\u001b[39;00m \u001b[38;5;21;01mnp\u001b[39;00m\n\u001b[0;32m      5\u001b[0m \u001b[38;5;28;01mfrom\u001b[39;00m \u001b[38;5;21;01msklearn\u001b[39;00m\u001b[38;5;21;01m.\u001b[39;00m\u001b[38;5;21;01mmodel_selection\u001b[39;00m \u001b[38;5;28;01mimport\u001b[39;00m train_test_split\n",
            "\u001b[1;31mModuleNotFoundError\u001b[0m: No module named 'pandas'"
          ]
        }
      ],
      "source": [
        "# Import required Libs for Preprocessing\n",
        "\n",
        "import pandas as pd\n",
        "import numpy as np\n",
        "from sklearn.model_selection import train_test_split\n",
        "\n",
        "df= pd.read_csv('walmart_product_reviews_dataset.csv', sep=',')\n",
        "df.head()"
      ]
    },
    {
      "cell_type": "code",
      "execution_count": null,
      "metadata": {
        "colab": {
          "base_uri": "https://localhost:8080/"
        },
        "id": "e7MkYr7ns1Q-",
        "outputId": "85bb004d-b424-42b3-a875-739696e8b77e"
      },
      "outputs": [
        {
          "name": "stdout",
          "output_type": "stream",
          "text": [
            "<class 'pandas.core.frame.DataFrame'>\n",
            "RangeIndex: 20639 entries, 0 to 20638\n",
            "Data columns (total 13 columns):\n",
            " #   Column             Non-Null Count  Dtype  \n",
            "---  ------             --------------  -----  \n",
            " 0   crawled_at         20639 non-null  object \n",
            " 1   verified           20639 non-null  bool   \n",
            " 2   reviewed_at        20639 non-null  object \n",
            " 3   reviewed_by        20626 non-null  object \n",
            " 4   helpful_count      20639 non-null  int64  \n",
            " 5   not_helpful_count  20639 non-null  int64  \n",
            " 6   content            16208 non-null  object \n",
            " 7   raw_content        20639 non-null  object \n",
            " 8   average_rating     19609 non-null  float64\n",
            " 9   review_heading     14020 non-null  object \n",
            " 10  product_url        20639 non-null  object \n",
            " 11  review_page_url    20639 non-null  object \n",
            " 12  rating             20639 non-null  float64\n",
            "dtypes: bool(1), float64(2), int64(2), object(8)\n",
            "memory usage: 1.9+ MB\n"
          ]
        }
      ],
      "source": [
        "df.info()"
      ]
    },
    {
      "cell_type": "code",
      "execution_count": null,
      "metadata": {
        "id": "TJmNsT5isxHO"
      },
      "outputs": [],
      "source": [
        "df = df.dropna(subset=['review_heading'])\n",
        "df = df.dropna(subset=['average_rating'])"
      ]
    },
    {
      "cell_type": "code",
      "execution_count": null,
      "metadata": {
        "colab": {
          "base_uri": "https://localhost:8080/"
        },
        "id": "l9TVky3Ijo1n",
        "outputId": "d382fec8-c270-4339-dfe4-502e403b25fe"
      },
      "outputs": [
        {
          "name": "stdout",
          "output_type": "stream",
          "text": [
            "Number of Rows: 13133\n",
            "Number of Columns: 13\n"
          ]
        }
      ],
      "source": [
        "# Shape of Dataset\n",
        "\n",
        "print(\"Number of Rows: \" + str(df.shape[0]))\n",
        "print(\"Number of Columns: \" + str(df.shape[1]))"
      ]
    },
    {
      "cell_type": "code",
      "execution_count": null,
      "metadata": {
        "id": "9uxVh54ereKq"
      },
      "outputs": [],
      "source": [
        "df['sentiment'] = np.where(df['rating'] > 3, 'positive',\n",
        "                           np.where(df['rating'] == 3, 'neutral', 'negative'))"
      ]
    },
    {
      "cell_type": "code",
      "execution_count": null,
      "metadata": {
        "id": "Fvq9Kn3Bjo1n"
      },
      "outputs": [],
      "source": [
        "# Select Required Columns Only\n",
        "\n",
        "tweet_df = df[['content','sentiment']]"
      ]
    },
    {
      "cell_type": "code",
      "execution_count": null,
      "metadata": {
        "colab": {
          "base_uri": "https://localhost:8080/",
          "height": 206
        },
        "id": "6AxpJFVvjo1o",
        "outputId": "f4f94947-25c4-4765-b6e5-595b40571a64"
      },
      "outputs": [
        {
          "data": {
            "text/html": [
              "\n",
              "  <div id=\"df-471a3545-e0ea-42d4-b8b9-d3e76dfd9b9d\" class=\"colab-df-container\">\n",
              "    <div>\n",
              "<style scoped>\n",
              "    .dataframe tbody tr th:only-of-type {\n",
              "        vertical-align: middle;\n",
              "    }\n",
              "\n",
              "    .dataframe tbody tr th {\n",
              "        vertical-align: top;\n",
              "    }\n",
              "\n",
              "    .dataframe thead th {\n",
              "        text-align: right;\n",
              "    }\n",
              "</style>\n",
              "<table border=\"1\" class=\"dataframe\">\n",
              "  <thead>\n",
              "    <tr style=\"text-align: right;\">\n",
              "      <th></th>\n",
              "      <th>content</th>\n",
              "      <th>sentiment</th>\n",
              "    </tr>\n",
              "  </thead>\n",
              "  <tbody>\n",
              "    <tr>\n",
              "      <th>3</th>\n",
              "      <td>These go up very easily and I love the cordles...</td>\n",
              "      <td>positive</td>\n",
              "    </tr>\n",
              "    <tr>\n",
              "      <th>4</th>\n",
              "      <td>When using the rod to open the blind, the rod ...</td>\n",
              "      <td>positive</td>\n",
              "    </tr>\n",
              "    <tr>\n",
              "      <th>5</th>\n",
              "      <td>one of the top brackets was broken.  how do I ...</td>\n",
              "      <td>positive</td>\n",
              "    </tr>\n",
              "    <tr>\n",
              "      <th>6</th>\n",
              "      <td>I love the sting free pushing and pulling to a...</td>\n",
              "      <td>positive</td>\n",
              "    </tr>\n",
              "    <tr>\n",
              "      <th>7</th>\n",
              "      <td>Very agitating to order a 25 x 72 inch blind (...</td>\n",
              "      <td>neutral</td>\n",
              "    </tr>\n",
              "  </tbody>\n",
              "</table>\n",
              "</div>\n",
              "    <div class=\"colab-df-buttons\">\n",
              "\n",
              "  <div class=\"colab-df-container\">\n",
              "    <button class=\"colab-df-convert\" onclick=\"convertToInteractive('df-471a3545-e0ea-42d4-b8b9-d3e76dfd9b9d')\"\n",
              "            title=\"Convert this dataframe to an interactive table.\"\n",
              "            style=\"display:none;\">\n",
              "\n",
              "  <svg xmlns=\"http://www.w3.org/2000/svg\" height=\"24px\" viewBox=\"0 -960 960 960\">\n",
              "    <path d=\"M120-120v-720h720v720H120Zm60-500h600v-160H180v160Zm220 220h160v-160H400v160Zm0 220h160v-160H400v160ZM180-400h160v-160H180v160Zm440 0h160v-160H620v160ZM180-180h160v-160H180v160Zm440 0h160v-160H620v160Z\"/>\n",
              "  </svg>\n",
              "    </button>\n",
              "\n",
              "  <style>\n",
              "    .colab-df-container {\n",
              "      display:flex;\n",
              "      gap: 12px;\n",
              "    }\n",
              "\n",
              "    .colab-df-convert {\n",
              "      background-color: #E8F0FE;\n",
              "      border: none;\n",
              "      border-radius: 50%;\n",
              "      cursor: pointer;\n",
              "      display: none;\n",
              "      fill: #1967D2;\n",
              "      height: 32px;\n",
              "      padding: 0 0 0 0;\n",
              "      width: 32px;\n",
              "    }\n",
              "\n",
              "    .colab-df-convert:hover {\n",
              "      background-color: #E2EBFA;\n",
              "      box-shadow: 0px 1px 2px rgba(60, 64, 67, 0.3), 0px 1px 3px 1px rgba(60, 64, 67, 0.15);\n",
              "      fill: #174EA6;\n",
              "    }\n",
              "\n",
              "    .colab-df-buttons div {\n",
              "      margin-bottom: 4px;\n",
              "    }\n",
              "\n",
              "    [theme=dark] .colab-df-convert {\n",
              "      background-color: #3B4455;\n",
              "      fill: #D2E3FC;\n",
              "    }\n",
              "\n",
              "    [theme=dark] .colab-df-convert:hover {\n",
              "      background-color: #434B5C;\n",
              "      box-shadow: 0px 1px 3px 1px rgba(0, 0, 0, 0.15);\n",
              "      filter: drop-shadow(0px 1px 2px rgba(0, 0, 0, 0.3));\n",
              "      fill: #FFFFFF;\n",
              "    }\n",
              "  </style>\n",
              "\n",
              "    <script>\n",
              "      const buttonEl =\n",
              "        document.querySelector('#df-471a3545-e0ea-42d4-b8b9-d3e76dfd9b9d button.colab-df-convert');\n",
              "      buttonEl.style.display =\n",
              "        google.colab.kernel.accessAllowed ? 'block' : 'none';\n",
              "\n",
              "      async function convertToInteractive(key) {\n",
              "        const element = document.querySelector('#df-471a3545-e0ea-42d4-b8b9-d3e76dfd9b9d');\n",
              "        const dataTable =\n",
              "          await google.colab.kernel.invokeFunction('convertToInteractive',\n",
              "                                                    [key], {});\n",
              "        if (!dataTable) return;\n",
              "\n",
              "        const docLinkHtml = 'Like what you see? Visit the ' +\n",
              "          '<a target=\"_blank\" href=https://colab.research.google.com/notebooks/data_table.ipynb>data table notebook</a>'\n",
              "          + ' to learn more about interactive tables.';\n",
              "        element.innerHTML = '';\n",
              "        dataTable['output_type'] = 'display_data';\n",
              "        await google.colab.output.renderOutput(dataTable, element);\n",
              "        const docLink = document.createElement('div');\n",
              "        docLink.innerHTML = docLinkHtml;\n",
              "        element.appendChild(docLink);\n",
              "      }\n",
              "    </script>\n",
              "  </div>\n",
              "\n",
              "\n",
              "<div id=\"df-22104dc7-727a-4ae2-a115-378b4f7db65d\">\n",
              "  <button class=\"colab-df-quickchart\" onclick=\"quickchart('df-22104dc7-727a-4ae2-a115-378b4f7db65d')\"\n",
              "            title=\"Suggest charts\"\n",
              "            style=\"display:none;\">\n",
              "\n",
              "<svg xmlns=\"http://www.w3.org/2000/svg\" height=\"24px\"viewBox=\"0 0 24 24\"\n",
              "     width=\"24px\">\n",
              "    <g>\n",
              "        <path d=\"M19 3H5c-1.1 0-2 .9-2 2v14c0 1.1.9 2 2 2h14c1.1 0 2-.9 2-2V5c0-1.1-.9-2-2-2zM9 17H7v-7h2v7zm4 0h-2V7h2v10zm4 0h-2v-4h2v4z\"/>\n",
              "    </g>\n",
              "</svg>\n",
              "  </button>\n",
              "\n",
              "<style>\n",
              "  .colab-df-quickchart {\n",
              "      --bg-color: #E8F0FE;\n",
              "      --fill-color: #1967D2;\n",
              "      --hover-bg-color: #E2EBFA;\n",
              "      --hover-fill-color: #174EA6;\n",
              "      --disabled-fill-color: #AAA;\n",
              "      --disabled-bg-color: #DDD;\n",
              "  }\n",
              "\n",
              "  [theme=dark] .colab-df-quickchart {\n",
              "      --bg-color: #3B4455;\n",
              "      --fill-color: #D2E3FC;\n",
              "      --hover-bg-color: #434B5C;\n",
              "      --hover-fill-color: #FFFFFF;\n",
              "      --disabled-bg-color: #3B4455;\n",
              "      --disabled-fill-color: #666;\n",
              "  }\n",
              "\n",
              "  .colab-df-quickchart {\n",
              "    background-color: var(--bg-color);\n",
              "    border: none;\n",
              "    border-radius: 50%;\n",
              "    cursor: pointer;\n",
              "    display: none;\n",
              "    fill: var(--fill-color);\n",
              "    height: 32px;\n",
              "    padding: 0;\n",
              "    width: 32px;\n",
              "  }\n",
              "\n",
              "  .colab-df-quickchart:hover {\n",
              "    background-color: var(--hover-bg-color);\n",
              "    box-shadow: 0 1px 2px rgba(60, 64, 67, 0.3), 0 1px 3px 1px rgba(60, 64, 67, 0.15);\n",
              "    fill: var(--button-hover-fill-color);\n",
              "  }\n",
              "\n",
              "  .colab-df-quickchart-complete:disabled,\n",
              "  .colab-df-quickchart-complete:disabled:hover {\n",
              "    background-color: var(--disabled-bg-color);\n",
              "    fill: var(--disabled-fill-color);\n",
              "    box-shadow: none;\n",
              "  }\n",
              "\n",
              "  .colab-df-spinner {\n",
              "    border: 2px solid var(--fill-color);\n",
              "    border-color: transparent;\n",
              "    border-bottom-color: var(--fill-color);\n",
              "    animation:\n",
              "      spin 1s steps(1) infinite;\n",
              "  }\n",
              "\n",
              "  @keyframes spin {\n",
              "    0% {\n",
              "      border-color: transparent;\n",
              "      border-bottom-color: var(--fill-color);\n",
              "      border-left-color: var(--fill-color);\n",
              "    }\n",
              "    20% {\n",
              "      border-color: transparent;\n",
              "      border-left-color: var(--fill-color);\n",
              "      border-top-color: var(--fill-color);\n",
              "    }\n",
              "    30% {\n",
              "      border-color: transparent;\n",
              "      border-left-color: var(--fill-color);\n",
              "      border-top-color: var(--fill-color);\n",
              "      border-right-color: var(--fill-color);\n",
              "    }\n",
              "    40% {\n",
              "      border-color: transparent;\n",
              "      border-right-color: var(--fill-color);\n",
              "      border-top-color: var(--fill-color);\n",
              "    }\n",
              "    60% {\n",
              "      border-color: transparent;\n",
              "      border-right-color: var(--fill-color);\n",
              "    }\n",
              "    80% {\n",
              "      border-color: transparent;\n",
              "      border-right-color: var(--fill-color);\n",
              "      border-bottom-color: var(--fill-color);\n",
              "    }\n",
              "    90% {\n",
              "      border-color: transparent;\n",
              "      border-bottom-color: var(--fill-color);\n",
              "    }\n",
              "  }\n",
              "</style>\n",
              "\n",
              "  <script>\n",
              "    async function quickchart(key) {\n",
              "      const quickchartButtonEl =\n",
              "        document.querySelector('#' + key + ' button');\n",
              "      quickchartButtonEl.disabled = true;  // To prevent multiple clicks.\n",
              "      quickchartButtonEl.classList.add('colab-df-spinner');\n",
              "      try {\n",
              "        const charts = await google.colab.kernel.invokeFunction(\n",
              "            'suggestCharts', [key], {});\n",
              "      } catch (error) {\n",
              "        console.error('Error during call to suggestCharts:', error);\n",
              "      }\n",
              "      quickchartButtonEl.classList.remove('colab-df-spinner');\n",
              "      quickchartButtonEl.classList.add('colab-df-quickchart-complete');\n",
              "    }\n",
              "    (() => {\n",
              "      let quickchartButtonEl =\n",
              "        document.querySelector('#df-22104dc7-727a-4ae2-a115-378b4f7db65d button');\n",
              "      quickchartButtonEl.style.display =\n",
              "        google.colab.kernel.accessAllowed ? 'block' : 'none';\n",
              "    })();\n",
              "  </script>\n",
              "</div>\n",
              "    </div>\n",
              "  </div>\n"
            ],
            "text/plain": [
              "                                             content sentiment\n",
              "3  These go up very easily and I love the cordles...  positive\n",
              "4  When using the rod to open the blind, the rod ...  positive\n",
              "5  one of the top brackets was broken.  how do I ...  positive\n",
              "6  I love the sting free pushing and pulling to a...  positive\n",
              "7  Very agitating to order a 25 x 72 inch blind (...   neutral"
            ]
          },
          "execution_count": 31,
          "metadata": {},
          "output_type": "execute_result"
        }
      ],
      "source": [
        "tweet_df.head()"
      ]
    },
    {
      "cell_type": "code",
      "execution_count": null,
      "metadata": {
        "id": "ntt_k-ySjo1o"
      },
      "outputs": [],
      "source": [
        "# Select only Positive and Negative Reviews\n",
        "\n",
        "tweet_df = tweet_df[tweet_df['sentiment'] != 'neutral']"
      ]
    },
    {
      "cell_type": "code",
      "execution_count": null,
      "metadata": {
        "id": "pL_2Vk-Njo1p"
      },
      "outputs": [],
      "source": [
        "# Attribute and Labels\n",
        "X = tweet_df.content\n",
        "y = tweet_df.sentiment"
      ]
    },
    {
      "cell_type": "code",
      "execution_count": null,
      "metadata": {
        "id": "x6uqqZZ-jo1q"
      },
      "outputs": [],
      "source": [
        "# Train Test Split\n",
        "X_train, X_test, y_train, y_test = train_test_split(X, y, test_size=0.2, random_state=42)"
      ]
    },
    {
      "cell_type": "code",
      "execution_count": null,
      "metadata": {
        "colab": {
          "base_uri": "https://localhost:8080/"
        },
        "id": "pn4gqmD4jo1r",
        "outputId": "2b0a9cbb-9746-4b09-fa57-7abba1e3b96d"
      },
      "outputs": [
        {
          "name": "stdout",
          "output_type": "stream",
          "text": [
            "Training Set X Items: 9936\n",
            "Training Set y Items: 9936\n"
          ]
        }
      ],
      "source": [
        "# Checking Train Set\n",
        "\n",
        "print(\"Training Set X Items: \" + str(len(X_train)))\n",
        "print(\"Training Set y Items: \" + str(len(y_train)))"
      ]
    },
    {
      "cell_type": "code",
      "execution_count": null,
      "metadata": {
        "colab": {
          "base_uri": "https://localhost:8080/"
        },
        "id": "NppaI3D1jo1s",
        "outputId": "8c5d98b0-c3b4-45f3-8a4e-7f8215558e38"
      },
      "outputs": [
        {
          "name": "stdout",
          "output_type": "stream",
          "text": [
            "Test Set X Items: 2485\n",
            "Test Set y Items: 2485\n"
          ]
        }
      ],
      "source": [
        "# Checking Test Set\n",
        "\n",
        "print(\"Test Set X Items: \" + str(len(X_test)))\n",
        "print(\"Test Set y Items: \" + str(len(y_test)))"
      ]
    },
    {
      "cell_type": "code",
      "execution_count": null,
      "metadata": {
        "id": "tEOY_B3rjo1s"
      },
      "outputs": [],
      "source": [
        "# Getting required labels only and encoding\n",
        "\n",
        "review_labels_train = y_train.factorize()"
      ]
    },
    {
      "cell_type": "code",
      "execution_count": null,
      "metadata": {
        "colab": {
          "base_uri": "https://localhost:8080/"
        },
        "id": "n9mLYYvQjo1t",
        "outputId": "e4769d2e-96cf-41af-85a4-b46c2de4409a"
      },
      "outputs": [
        {
          "data": {
            "text/plain": [
              "array([0, 1, 1, ..., 1, 1, 1])"
            ]
          },
          "execution_count": 38,
          "metadata": {},
          "output_type": "execute_result"
        }
      ],
      "source": [
        "review_labels_train[0]"
      ]
    },
    {
      "cell_type": "code",
      "execution_count": null,
      "metadata": {
        "colab": {
          "base_uri": "https://localhost:8080/"
        },
        "id": "9xUpdh1jjo1t",
        "outputId": "408408e4-fa48-46b9-80ad-080c34219b65"
      },
      "outputs": [
        {
          "data": {
            "text/plain": [
              "Index(['negative', 'positive'], dtype='object')"
            ]
          },
          "execution_count": 39,
          "metadata": {},
          "output_type": "execute_result"
        }
      ],
      "source": [
        "# Check Review Labels\n",
        "review_labels_train[1]"
      ]
    },
    {
      "cell_type": "markdown",
      "metadata": {
        "id": "_o-4xACbjo1t"
      },
      "source": [
        "# Next"
      ]
    },
    {
      "cell_type": "code",
      "execution_count": null,
      "metadata": {
        "id": "QCFPohQrjo1t"
      },
      "outputs": [],
      "source": [
        "# Importing required tf modules\n",
        "from tensorflow.keras.preprocessing.text import Tokenizer\n",
        "from tensorflow.keras.preprocessing.sequence import pad_sequences"
      ]
    },
    {
      "cell_type": "code",
      "execution_count": null,
      "metadata": {
        "colab": {
          "base_uri": "https://localhost:8080/"
        },
        "id": "SqOYY7WUjo1u",
        "outputId": "0bf73d9f-fd2e-45f5-aa3e-a576a0c1a5bb"
      },
      "outputs": [
        {
          "data": {
            "text/plain": [
              "array([\"Ordered rocker for my Granddaughter's 1st birthday. Liked the fact that it was made in the usa and the price. Received rocker and am very disappointed with the quality. The finish looks like it was applied poorly. It is very rough in some areas and the nail (or staple holes) are very rough and unfinished. Will be sending it back.\",\n",
              "       'well I bought the first one you had before which was not a good buy but I kept it anyway then you can with this one which is much better thanks',\n",
              "       'Great sheets my grands love the dogs', ...,\n",
              "       \"I can't believe I went all my life standing/prepping/cooking without this. What a way to spoil myself!\",\n",
              "       'I have used other waffle makers in the past. They either burn the waffles, the mix drips out, or the machine breaks after a few uses. I use this waffle maker a few times and I am blown away. It is extremely easy to use, extremely easy to clean, and the waffles come out perfectly with no stress.The waffles came out at the perfect consistency and are delicious.We are a family of seven and this machine is a lifesaver. I am so glad I have this and will be using it on a daily basis to feed my family.',\n",
              "       'I bought this chopper to expedite chopping walnuts for my candies.  It grinds shelled walnuts so quickly and has really decreased the time I spend on this chore!  I was hoping it would chop almonds, too, but I have yet to find any other small appliance to do that task (including the refurbished Kitchen Aid refurbished food processors). (This review was collected as part of a promotion.)'],\n",
              "      dtype=object)"
            ]
          },
          "execution_count": 41,
          "metadata": {},
          "output_type": "execute_result"
        }
      ],
      "source": [
        "vocab = X_train.values\n",
        "vocab"
      ]
    },
    {
      "cell_type": "code",
      "execution_count": null,
      "metadata": {
        "colab": {
          "base_uri": "https://localhost:8080/"
        },
        "id": "QbpLjfA_jo1u",
        "outputId": "abea950a-3e7e-476f-d2c2-e11ec6133d2d"
      },
      "outputs": [
        {
          "name": "stdout",
          "output_type": "stream",
          "text": [
            "<keras.src.preprocessing.text.Tokenizer object at 0x7c9a90d0f8e0>\n",
            "11133\n"
          ]
        }
      ],
      "source": [
        "# Vectorize a text corpus, by turning each text into sequence of integers\n",
        "\n",
        "tokenizer = Tokenizer(num_words=8000,oov_token='OOV')\n",
        "tokenizer.fit_on_texts(vocab)\n",
        "\n",
        "vocab_size = len(tokenizer.word_index) + 1\n",
        "\n",
        "print(tokenizer)\n",
        "print(vocab_size)"
      ]
    },
    {
      "cell_type": "code",
      "execution_count": null,
      "metadata": {
        "colab": {
          "base_uri": "https://localhost:8080/"
        },
        "id": "irPFLw6Mjo1u",
        "outputId": "1a545667-6c05-4d39-f739-cdf3925f8385"
      },
      "outputs": [
        {
          "data": {
            "text/plain": [
              "11132"
            ]
          },
          "execution_count": 43,
          "metadata": {},
          "output_type": "execute_result"
        }
      ],
      "source": [
        "len(tokenizer.word_index)"
      ]
    },
    {
      "cell_type": "code",
      "execution_count": null,
      "metadata": {
        "id": "5hUkNXcrjo1v"
      },
      "outputs": [],
      "source": [
        "# # To save the tokenized vocab for Web app\n",
        "# import pickle\n",
        "# with open('tokenizer.pickle', 'wb') as handle:\n",
        "#     pickle.dump(tokenizer, handle, protocol=pickle.HIGHEST_PROTOCOL)"
      ]
    },
    {
      "cell_type": "code",
      "execution_count": null,
      "metadata": {
        "colab": {
          "base_uri": "https://localhost:8080/"
        },
        "id": "V_i9NSgsjo1v",
        "outputId": "b47ea04e-b60d-4c7e-d960-7c05d727de1b"
      },
      "outputs": [
        {
          "name": "stdout",
          "output_type": "stream",
          "text": [
            "[[   0    0    0 ... 1262    6   96]\n",
            " [   0    0    0 ...   77  140  303]\n",
            " [   0    0    0 ...   26    2  809]\n",
            " ...\n",
            " [   0    0    0 ...    7    1  417]\n",
            " [   0    0    0 ... 3038   12  291]\n",
            " [   0    0    0 ...    9    5   38]]\n"
          ]
        }
      ],
      "source": [
        "# Store and Padding Converted Sequences\n",
        "tweet = X_train.values\n",
        "\n",
        "tweet_seqs = tokenizer.texts_to_sequences(tweet)\n",
        "\n",
        "padded_sequence_train = pad_sequences(tweet_seqs, maxlen=200)\n",
        "print(padded_sequence_train)"
      ]
    },
    {
      "cell_type": "code",
      "execution_count": null,
      "metadata": {
        "colab": {
          "base_uri": "https://localhost:8080/"
        },
        "id": "Dyz58mB2jo1v",
        "outputId": "bfcaac30-fedb-4fc8-8080-31818a8db345"
      },
      "outputs": [
        {
          "name": "stdout",
          "output_type": "stream",
          "text": [
            "[   0    0    0    0    0    0    0    0    0    0    0    0    0    0\n",
            "    0    0    0    0    0    0    0    0    0    0    0    0    0    0\n",
            "    0    0    0    0    0    0    0    0    0    0    0    0    0    0\n",
            "    0    0    0    0    0    0    0    0    0    0    0    0    0    0\n",
            "    0    0    0    0    0    0    0    0    0    0    0    0    0    0\n",
            "    0    0    0    0    0    0    0    0    0    0    0    0    0    0\n",
            "    0    0    0    0    0    0    0    0    0    0    0    0    0    0\n",
            "    0    0    0    0    0    0    0    0    0    0    0    0    0    0\n",
            "    0    0    0    0    0    0    0    0    0    0    0    0    0    0\n",
            "    0    0    0    0    0    0    0    0    0    0    0    0    0    0\n",
            "  142 1358   11   12 5059 1623  988  489    2  480   18    6   13   87\n",
            "   14    2 2115    4    2   72  174 1358    4   74   22  275   19    2\n",
            "   54    2  718  104   32    6   13 3353 1442    6   10   22  842   14\n",
            "  144 1152    4    2 1869   64 2223  592   21   22  842    4 2632   60\n",
            "   41 1262    6   96]\n"
          ]
        }
      ],
      "source": [
        "# Check padded sequence element\n",
        "\n",
        "print(padded_sequence_train[0])"
      ]
    },
    {
      "cell_type": "code",
      "execution_count": null,
      "metadata": {
        "colab": {
          "base_uri": "https://localhost:8080/"
        },
        "id": "z95LGiMFjo1w",
        "outputId": "c83877b2-c2cb-4c3c-ea4a-d37e3920f4d8",
        "scrolled": true
      },
      "outputs": [
        {
          "name": "stdout",
          "output_type": "stream",
          "text": [
            "Model: \"sequential\"\n",
            "_________________________________________________________________\n",
            " Layer (type)                Output Shape              Param #   \n",
            "=================================================================\n",
            " embedding (Embedding)       (None, 200, 32)           356256    \n",
            "                                                                 \n",
            " spatial_dropout1d (Spatial  (None, 200, 32)           0         \n",
            " Dropout1D)                                                      \n",
            "                                                                 \n",
            " lstm (LSTM)                 (None, 50)                16600     \n",
            "                                                                 \n",
            " dropout (Dropout)           (None, 50)                0         \n",
            "                                                                 \n",
            " dense (Dense)               (None, 1)                 51        \n",
            "                                                                 \n",
            "=================================================================\n",
            "Total params: 372907 (1.42 MB)\n",
            "Trainable params: 372907 (1.42 MB)\n",
            "Non-trainable params: 0 (0.00 Byte)\n",
            "_________________________________________________________________\n",
            "None\n"
          ]
        }
      ],
      "source": [
        "# Build the model\n",
        "from tensorflow.keras.models import Sequential\n",
        "from tensorflow.keras.layers import LSTM, Dense, Dropout\n",
        "from tensorflow.keras.layers import SpatialDropout1D\n",
        "from tensorflow.keras.layers import Embedding\n",
        "\n",
        "embedding_vector_length = 32\n",
        "\n",
        "model = Sequential()\n",
        "model.add(Embedding(vocab_size, embedding_vector_length,\n",
        "                                     input_length=200) )\n",
        "model.add(SpatialDropout1D(0.25))\n",
        "model.add(LSTM(50, dropout=0.5, recurrent_dropout=0.5))\n",
        "model.add(Dropout(0.2))\n",
        "model.add(Dense(1, activation='sigmoid'))\n",
        "model.compile(loss='binary_crossentropy',optimizer='adam', metrics=['accuracy'])\n",
        "print(model.summary())"
      ]
    },
    {
      "cell_type": "code",
      "execution_count": null,
      "metadata": {
        "id": "4FYbSKqQjo1w"
      },
      "outputs": [],
      "source": [
        "# # Used to save trained model\n",
        "\n",
        "# model.save(\"sentiment_analysis.h5\")\n",
        "# print(\"Model Saved\")"
      ]
    },
    {
      "cell_type": "markdown",
      "metadata": {
        "id": "Dd98UPxSjo1w"
      },
      "source": [
        "# Train Model"
      ]
    },
    {
      "cell_type": "code",
      "execution_count": null,
      "metadata": {
        "colab": {
          "base_uri": "https://localhost:8080/"
        },
        "id": "4T6ifWi5jo1x",
        "outputId": "77d3b7a9-3ccb-4db2-b9cf-bcdc655792e6"
      },
      "outputs": [
        {
          "name": "stdout",
          "output_type": "stream",
          "text": [
            "Epoch 1/5\n",
            "249/249 [==============================] - 66s 253ms/step - loss: 0.3316 - accuracy: 0.8801 - val_loss: 0.2220 - val_accuracy: 0.9029\n",
            "Epoch 2/5\n",
            "249/249 [==============================] - 61s 244ms/step - loss: 0.1641 - accuracy: 0.9386 - val_loss: 0.1607 - val_accuracy: 0.9406\n",
            "Epoch 3/5\n",
            "249/249 [==============================] - 60s 242ms/step - loss: 0.1198 - accuracy: 0.9592 - val_loss: 0.1569 - val_accuracy: 0.9457\n",
            "Epoch 4/5\n",
            "249/249 [==============================] - 60s 241ms/step - loss: 0.0921 - accuracy: 0.9675 - val_loss: 0.1681 - val_accuracy: 0.9437\n",
            "Epoch 5/5\n",
            "249/249 [==============================] - 61s 243ms/step - loss: 0.0754 - accuracy: 0.9733 - val_loss: 0.1769 - val_accuracy: 0.9457\n"
          ]
        }
      ],
      "source": [
        "# Training the model\n",
        "trained = model.fit(padded_sequence_train,review_labels_train[0],\n",
        "                  validation_split=0.2, epochs=5, batch_size=32)"
      ]
    },
    {
      "cell_type": "code",
      "execution_count": null,
      "metadata": {
        "colab": {
          "base_uri": "https://localhost:8080/"
        },
        "id": "0IZd4ApTjo1x",
        "outputId": "d408603c-2def-4222-a06e-18405768ffda"
      },
      "outputs": [
        {
          "name": "stdout",
          "output_type": "stream",
          "text": [
            "[[  0   0   0 ...  34  99 171]\n",
            " [  0   0   0 ... 398 204  95]\n",
            " [  0   0   0 ... 360   3 135]\n",
            " ...\n",
            " [  0   0   0 ...   4  22 437]\n",
            " [  0   0   0 ...  51 218   6]\n",
            " [  0   0   0 ...  26   2 797]]\n"
          ]
        }
      ],
      "source": [
        "# Encoding and Padding Test Data to Check Accuracy\n",
        "\n",
        "encoded_docs = tokenizer.texts_to_sequences(X_test)\n",
        "padded_sequence_test = pad_sequences(encoded_docs, maxlen=200)\n",
        "print(padded_sequence_test)"
      ]
    },
    {
      "cell_type": "code",
      "execution_count": null,
      "metadata": {
        "colab": {
          "base_uri": "https://localhost:8080/"
        },
        "id": "pSpLwotcjo1x",
        "outputId": "de9d150f-a72f-44ae-9711-2ee1947a5dde"
      },
      "outputs": [
        {
          "data": {
            "text/plain": [
              "array([0, 0, 0, ..., 0, 0, 0])"
            ]
          },
          "execution_count": 51,
          "metadata": {},
          "output_type": "execute_result"
        }
      ],
      "source": [
        "sentiment_label_test = y_test.factorize()\n",
        "sentiment_label_test[0]"
      ]
    },
    {
      "cell_type": "code",
      "execution_count": null,
      "metadata": {
        "id": "q656mJCOjo1x"
      },
      "outputs": [],
      "source": [
        "score = model.evaluate(padded_sequence_test,sentiment_label_test[0],verbose=0)"
      ]
    },
    {
      "cell_type": "code",
      "execution_count": null,
      "metadata": {
        "colab": {
          "base_uri": "https://localhost:8080/"
        },
        "id": "iI1qDmP0jo1x",
        "outputId": "377aedb2-83c8-4880-eec2-204b98e2febd"
      },
      "outputs": [
        {
          "name": "stdout",
          "output_type": "stream",
          "text": [
            "Accuracy: 0.05714285746216774\n"
          ]
        }
      ],
      "source": [
        "print(\"Accuracy: {}\".format(score[1]))"
      ]
    },
    {
      "cell_type": "markdown",
      "metadata": {
        "id": "2Sh0CURkjo1y"
      },
      "source": [
        "# Load Model"
      ]
    },
    {
      "cell_type": "code",
      "execution_count": null,
      "metadata": {
        "id": "-EN-rGkxjo1y"
      },
      "outputs": [],
      "source": [
        "from tensorflow.keras.preprocessing.text import Tokenizer\n",
        "from tensorflow.keras.preprocessing.sequence import pad_sequences\n",
        "from tensorflow.keras import models"
      ]
    },
    {
      "cell_type": "code",
      "execution_count": null,
      "metadata": {
        "colab": {
          "base_uri": "https://localhost:8080/"
        },
        "id": "ZKlFbwU2jo1y",
        "outputId": "87fcb120-c3c9-48a6-d6fd-550af91e47f7"
      },
      "outputs": [
        {
          "name": "stdout",
          "output_type": "stream",
          "text": [
            "Model Loaded\n",
            "Model: \"sequential_1\"\n",
            "_________________________________________________________________\n",
            " Layer (type)                Output Shape              Param #   \n",
            "=================================================================\n",
            " embedding_1 (Embedding)     (None, 200, 32)           372352    \n",
            "                                                                 \n",
            " spatial_dropout1d_1 (Spati  (None, 200, 32)           0         \n",
            " alDropout1D)                                                    \n",
            "                                                                 \n",
            " lstm_1 (LSTM)               (None, 50)                16600     \n",
            "                                                                 \n",
            " dropout_1 (Dropout)         (None, 50)                0         \n",
            "                                                                 \n",
            " dense_1 (Dense)             (None, 1)                 51        \n",
            "                                                                 \n",
            "=================================================================\n",
            "Total params: 389003 (1.48 MB)\n",
            "Trainable params: 389003 (1.48 MB)\n",
            "Non-trainable params: 0 (0.00 Byte)\n",
            "_________________________________________________________________\n"
          ]
        }
      ],
      "source": [
        "#Code to load the saved model\n",
        "model = models.load_model('sentiment_analysis.h5')\n",
        "print(\"Model Loaded\")\n",
        "model.summary()"
      ]
    },
    {
      "cell_type": "code",
      "execution_count": null,
      "metadata": {
        "id": "9ey5bpPFjo1y"
      },
      "outputs": [],
      "source": [
        "score = model.evaluate(padded_sequence_test,sentiment_label_test[0],verbose=0)"
      ]
    },
    {
      "cell_type": "markdown",
      "metadata": {
        "id": "cJKSHFmQjo1y"
      },
      "source": [
        "# Accuracy"
      ]
    },
    {
      "cell_type": "code",
      "execution_count": null,
      "metadata": {
        "colab": {
          "base_uri": "https://localhost:8080/"
        },
        "id": "H1TXzHbajo1z",
        "outputId": "5cbecef0-5056-4968-926b-c07e9fbc6601"
      },
      "outputs": [
        {
          "name": "stdout",
          "output_type": "stream",
          "text": [
            "Accuracy: 0.8193159103393555\n"
          ]
        }
      ],
      "source": [
        "print(\"Accuracy: {}\".format(score[1]))"
      ]
    },
    {
      "cell_type": "markdown",
      "metadata": {
        "id": "lDIgnZ1ojo1z"
      },
      "source": [
        "# Test Run"
      ]
    },
    {
      "cell_type": "code",
      "execution_count": null,
      "metadata": {
        "colab": {
          "base_uri": "https://localhost:8080/"
        },
        "id": "2uWC_Be6m_gU",
        "outputId": "6b4f8c5a-4b4a-4b06-dbb4-0144eb536018"
      },
      "outputs": [
        {
          "name": "stdout",
          "output_type": "stream",
          "text": [
            "Collecting Keras-Preprocessing\n",
            "  Downloading Keras_Preprocessing-1.1.2-py2.py3-none-any.whl (42 kB)\n",
            "\u001b[2K     \u001b[90m━━━━━━━━━━━━━━━━━━━━━━━━━━━━━━━━━━━━━━━━\u001b[0m \u001b[32m42.6/42.6 kB\u001b[0m \u001b[31m1.6 MB/s\u001b[0m eta \u001b[36m0:00:00\u001b[0m\n",
            "\u001b[?25hRequirement already satisfied: numpy>=1.9.1 in /usr/local/lib/python3.10/dist-packages (from Keras-Preprocessing) (1.23.5)\n",
            "Requirement already satisfied: six>=1.9.0 in /usr/local/lib/python3.10/dist-packages (from Keras-Preprocessing) (1.16.0)\n",
            "Installing collected packages: Keras-Preprocessing\n",
            "Successfully installed Keras-Preprocessing-1.1.2\n"
          ]
        }
      ],
      "source": [
        "!pip install Keras-Preprocessing"
      ]
    },
    {
      "cell_type": "code",
      "execution_count": null,
      "metadata": {
        "id": "NuWunL6Rjo1z"
      },
      "outputs": [],
      "source": [
        "import pickle\n",
        "with open('tokenizer.pickle', 'rb') as handle:\n",
        "    tokenizer = pickle.load(handle)"
      ]
    },
    {
      "cell_type": "code",
      "execution_count": null,
      "metadata": {
        "colab": {
          "base_uri": "https://localhost:8080/"
        },
        "id": "_UpQPfHEjo1z",
        "outputId": "8b20fbcf-c9b8-44d9-c3e3-1b35cb2c4058"
      },
      "outputs": [
        {
          "data": {
            "text/plain": [
              "11635"
            ]
          },
          "execution_count": 60,
          "metadata": {},
          "output_type": "execute_result"
        }
      ],
      "source": [
        "len(tokenizer.word_index)"
      ]
    },
    {
      "cell_type": "code",
      "execution_count": null,
      "metadata": {
        "colab": {
          "base_uri": "https://localhost:8080/"
        },
        "id": "YzVcPSDyjo10",
        "outputId": "44767c84-235e-4e53-c4cc-1c251d547b9c"
      },
      "outputs": [
        {
          "data": {
            "text/plain": [
              "array([[   0,    0,    0,    0,    0,    0,    0,    0,    0,    0,    0,\n",
              "           0,    0,    0,    0,    0,    0,    0,    0,    0,    0,    0,\n",
              "           0,    0,    0,    0,    0,    0,    0,    0,    0,    0,    0,\n",
              "           0,    0,    0,    0,    0,    0,    0,    0,    0,    0,    0,\n",
              "           0,    0,    0,    0,    0,    0,    0,    0,    0,    0,    0,\n",
              "           0,    0,    0,    0,    0,    0,    0,    0,    0,    0,    0,\n",
              "           0,    0,    0,    0,    0,    0,    0,    0,    0,    0,    0,\n",
              "           0,    0,    0,    0,    0,    0,    0,    0,    0,    0,    0,\n",
              "           0,    0,    0,    0,    0,    0,    0,    0,    0,    0,    0,\n",
              "           0,    0,    0,    0,    0,    0,    0,    0,    0,    0,    0,\n",
              "           0,    0,    0,    0,    0,    0,    0,    0,    0,    0,    0,\n",
              "           0,    0,    0,    0,    0,    0,    0,    0,    0,    0,    0,\n",
              "           0,    0,    0,    0,    0,    0,    0,    0,    0,    0,    0,\n",
              "           0,    0,    0,    0,    0,    0,    0,    0,    0,    0,    0,\n",
              "           0,    0,  548,    1,  146,    5, 2755,  466,    8,  539,   57,\n",
              "          39,    1,    1, 1716, 2006,   10, 1469,   22, 2550, 4229,   97,\n",
              "           1,   12,    1,   10,  223,   57,    1,    3,    1,    2,    3,\n",
              "           1, 3877,  495,   10,    1,  106,    3, 2569,  705, 1672,  548,\n",
              "          39,  111]], dtype=int32)"
            ]
          },
          "execution_count": 85,
          "metadata": {},
          "output_type": "execute_result"
        }
      ],
      "source": [
        "# Test Review Sentence\n",
        "\n",
        "test_word =\"\"\"\n",
        "These masks were a steal! 50 for 12$!! They are soft, breathable, light, comfortable and professional. It doesn’t hurt or irritate my ears and where they glue the straps to the mask isn’t hard and crusty like the basic blue ones. These are great!\n",
        "\"\"\"\n",
        "\n",
        "# test_word = \"\"\"\n",
        "# i'm so in love with this product, even the price is cheap but the quality is actually very nice\n",
        "# \"\"\"\n",
        "\n",
        "# To\n",
        "tw = tokenizer.texts_to_sequences([test_word])\n",
        "tw = pad_sequences(tw,maxlen=200)\n",
        "\n",
        "tw"
      ]
    },
    {
      "cell_type": "code",
      "execution_count": null,
      "metadata": {
        "colab": {
          "base_uri": "https://localhost:8080/"
        },
        "id": "GgVKrhrnjo14",
        "outputId": "21ef3b79-cefc-46ff-a864-daf219446fd2"
      },
      "outputs": [
        {
          "name": "stdout",
          "output_type": "stream",
          "text": [
            "1/1 [==============================] - 0s 36ms/step\n",
            "Actual Review: \n",
            "These masks were a steal! 50 for 12$!! They are soft, breathable, light, comfortable and professional. It doesn’t hurt or irritate my ears and where they glue the straps to the mask isn’t hard and crusty like the basic blue ones. These are great!\n",
            "\n",
            "\n",
            "Sentiment Analysis Outcome ==> The review shows Positive sentiment.\n",
            "\n",
            "======================================================================================\n",
            "\n",
            "Accuracy Criteria \n",
            "\n",
            "Probability Closer to 0 == Negative Sentiment\n",
            "Probability Closer to 1 == Positive Sentiment\n",
            "1/1 [==============================] - 0s 35ms/step\n",
            "\n",
            " ==> Probability is 0.8342032 (Positive)\n"
          ]
        }
      ],
      "source": [
        "prediction = int(model.predict(tw).round().item())\n",
        "outcome = (review_labels_train[1][prediction]).capitalize()\n",
        "\n",
        "print(\"Actual Review: \" + test_word)\n",
        "print(\"\\nSentiment Analysis Outcome ==> The review shows \" + (review_labels_train[1][prediction]).capitalize() + \" sentiment.\")\n",
        "print(\"\\n======================================================================================\")\n",
        "\n",
        "print(\"\\nAccuracy Criteria \\n\\nProbability Closer to 0 == Negative Sentiment\\nProbability Closer to 1 == Positive Sentiment\")\n",
        "\n",
        "prob = model.predict(tw)[0][0]\n",
        "\n",
        "print(\"\\n ==> Probability is \" + str(prob)+ \" (\" + outcome + \")\")"
      ]
    },
    {
      "cell_type": "code",
      "execution_count": null,
      "metadata": {
        "id": "V_xpO29hqAMR"
      },
      "outputs": [],
      "source": [
        "import h5py\n",
        "\n",
        "f = h5py.File('sentiment_analysis.h5', 'r')"
      ]
    },
    {
      "cell_type": "code",
      "execution_count": null,
      "metadata": {
        "colab": {
          "base_uri": "https://localhost:8080/"
        },
        "id": "y2u32hazqQ1r",
        "outputId": "6850af62-b9e6-432a-8957-9c67f605f9b6"
      },
      "outputs": [
        {
          "name": "stdout",
          "output_type": "stream",
          "text": [
            "model_weights\n",
            "optimizer_weights\n"
          ]
        }
      ],
      "source": [
        "import h5py\n",
        "f = h5py.File('sentiment_analysis.h5','r')\n",
        "for item in f.keys():\n",
        "    print(item) #+ \":\", f[item]"
      ]
    },
    {
      "cell_type": "code",
      "execution_count": null,
      "metadata": {
        "colab": {
          "base_uri": "https://localhost:8080/"
        },
        "id": "CotBz_3TzkUN",
        "outputId": "03136b15-a416-43e2-8980-102190b47582"
      },
      "outputs": [
        {
          "name": "stdout",
          "output_type": "stream",
          "text": [
            "dense_1\n",
            "spatial_dropout1d_1\n",
            "<HDF5 group \"/model_weights\" (5 members)>\n"
          ]
        }
      ],
      "source": [
        "with h5py.File('sentiment_analysis.h5', 'r') as f:\n",
        "\tdata = f['model_weights']\n",
        "\tprint(min(data))\n",
        "\tprint(max(data))\n",
        "\tprint(data)"
      ]
    },
    {
      "cell_type": "code",
      "execution_count": null,
      "metadata": {
        "colab": {
          "base_uri": "https://localhost:8080/"
        },
        "id": "AuvcdpqI0Zp9",
        "outputId": "cd1d37a0-237e-4d75-d00d-bea2d6930ca2"
      },
      "outputs": [
        {
          "name": "stdout",
          "output_type": "stream",
          "text": [
            "Adam\n",
            "Adam\n",
            "<HDF5 group \"/optimizer_weights\" (1 members)>\n"
          ]
        }
      ],
      "source": [
        "with h5py.File('sentiment_analysis.h5', 'r') as f:\n",
        "\tdata = f['optimizer_weights']\n",
        "\tprint(min(data))\n",
        "\tprint(max(data))\n",
        "\tprint(data)"
      ]
    },
    {
      "cell_type": "code",
      "execution_count": null,
      "metadata": {
        "colab": {
          "base_uri": "https://localhost:8080/"
        },
        "id": "lpbBaVIhrBJU",
        "outputId": "7fac6758-dab8-430d-8568-c1d7cfe340f2"
      },
      "outputs": [
        {
          "data": {
            "text/plain": [
              "['model_weights', 'optimizer_weights']"
            ]
          },
          "execution_count": 65,
          "metadata": {},
          "output_type": "execute_result"
        }
      ],
      "source": [
        "list(f.keys())"
      ]
    },
    {
      "cell_type": "code",
      "execution_count": null,
      "metadata": {
        "id": "F2Lnr-5ErfZD"
      },
      "outputs": [],
      "source": [
        "with open('tokenizer.pickle', 'rb') as f:\n",
        "    x = pickle.load(f)"
      ]
    },
    {
      "cell_type": "code",
      "execution_count": null,
      "metadata": {
        "colab": {
          "base_uri": "https://localhost:8080/"
        },
        "id": "YOJPiPvasZiw",
        "outputId": "4c1275e7-b9c6-4791-a985-67b93ffa3aa5"
      },
      "outputs": [
        {
          "data": {
            "text/plain": [
              "<keras_preprocessing.text.Tokenizer at 0x7c9a7df26290>"
            ]
          },
          "execution_count": 88,
          "metadata": {},
          "output_type": "execute_result"
        }
      ],
      "source": [
        "x"
      ]
    }
  ],
  "metadata": {
    "colab": {
      "provenance": []
    },
    "kernelspec": {
      "display_name": "Python 3",
      "language": "python",
      "name": "python3"
    },
    "language_info": {
      "codemirror_mode": {
        "name": "ipython",
        "version": 3
      },
      "file_extension": ".py",
      "mimetype": "text/x-python",
      "name": "python",
      "nbconvert_exporter": "python",
      "pygments_lexer": "ipython3",
      "version": "3.12.0"
    }
  },
  "nbformat": 4,
  "nbformat_minor": 0
}
